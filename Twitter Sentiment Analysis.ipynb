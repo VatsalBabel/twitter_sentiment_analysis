{
 "cells": [
  {
   "cell_type": "code",
   "execution_count": 2,
   "metadata": {},
   "outputs": [],
   "source": [
    "import tweepy\n",
    "from textblob import TextBlob"
   ]
  },
  {
   "cell_type": "code",
   "execution_count": 4,
   "metadata": {},
   "outputs": [],
   "source": [
    "#Auth tokens\n",
    "\n",
    "consumer_API_Key = 'o7NVeEy5YTfDZoMp0ph32xUx6'\n",
    "consumer_secret_Key = 'sqTpBQmUEsj1m5hcw99IoV8bRdxIqvdtfTe4oaZRrmB54OwUV5'\n",
    "access_token = '863604438925180928-NYA8x1cbuNeqN9rv5tlrHfqKM1rJnts'\n",
    "access_token_secret = 'dMqS46Ch14jh0wpS9ijC0gqcRk5mgjBVjevm3aWH6UGNC'"
   ]
  },
  {
   "cell_type": "code",
   "execution_count": 7,
   "metadata": {},
   "outputs": [],
   "source": [
    "#Auth\n",
    "\n",
    "auth = tweepy.OAuthHandler(consumer_API_Key, consumer_secret_Key)\n",
    "auth.set_access_token(access_token, access_token_secret)\n",
    "api = tweepy.API(auth)"
   ]
  },
  {
   "cell_type": "code",
   "execution_count": 16,
   "metadata": {},
   "outputs": [
    {
     "name": "stdout",
     "output_type": "stream",
     "text": [
      "14\n"
     ]
    }
   ],
   "source": [
    "#Making a tweet search\n",
    "\n",
    "tweets = api.search('Bollywood')"
   ]
  },
  {
   "cell_type": "code",
   "execution_count": 15,
   "metadata": {},
   "outputs": [
    {
     "name": "stdout",
     "output_type": "stream",
     "text": [
      "Thanks to @VidyutJammwal's expertise in #Kalaripayattu, the action in #Junglee, which releases today, is unique and… https://t.co/a6pAL0v6aG\n",
      "Sentiment(polarity=0.225, subjectivity=0.43333333333333335)\n",
      "\n",
      "RT @prestigepls: Bro who did this? 😂😂😂😂 why am I cringing so hard? Why they be thinking life is a Bollywood movie? https://t.co/nHL1H9hSNc\n",
      "Sentiment(polarity=-0.2916666666666667, subjectivity=0.5416666666666666)\n",
      "\n",
      "RT @CastingChhabra: #Notebook is an absolute delight to watch.The innocence n simplicity of d film that weaves through a beautiful love sto…\n",
      "Sentiment(polarity=0.5166666666666667, subjectivity=0.8333333333333334)\n",
      "\n",
      "RT @GulfNewsTabloid: #Bollywood superstar @iamsrk finds a new friend in #Dubai, none other than #Hollywood actress @GwynethPaltrow in the l…\n",
      "Sentiment(polarity=0.005681818181818177, subjectivity=0.4147727272727273)\n",
      "\n",
      "Woah! Ranveer Singh-Deepika Padukone, Ranbir Kapoor-Alia Bhatt to go on a US tour - read details https://t.co/1jSNpYf6SW\n",
      "Sentiment(polarity=0.0, subjectivity=0.0)\n",
      "\n",
      "RT @BOLLYWOODCOLLE2: Vintage Bollywood movie booklet.\n",
      "\n",
      "My facebook page SHARE/LIKE : https://t.co/g3gbDND41d https://t.co/P10lnahao2\n",
      "Sentiment(polarity=0.0, subjectivity=0.0)\n",
      "\n",
      "RT @prestigepls: Bro who did this? 😂😂😂😂 why am I cringing so hard? Why they be thinking life is a Bollywood movie? https://t.co/nHL1H9hSNc\n",
      "Sentiment(polarity=-0.2916666666666667, subjectivity=0.5416666666666666)\n",
      "\n",
      "RT @ranveercafe69: Most Romantic Bollywood Movies of the past 10 years according to Masala Mag https://t.co/z2Bt5TeprM\n",
      "\n",
      "Includes \n",
      "\n",
      "BBB - Ra…\n",
      "Sentiment(polarity=0.08333333333333333, subjectivity=0.4166666666666667)\n",
      "\n",
      "RT @DubaiOneTV: #Bollywood superstar @iamsrk is on a quest, finding answers to some clues leading to a big revelation. #BeMyGuest. #Emirate…\n",
      "Sentiment(polarity=0.0, subjectivity=0.1)\n",
      "\n",
      "RT @MonaAlamm: Can you believe it?? #PMModi claims he shot down a peaceful satellite and claims to be a “space superpower” 🦹‍♂️ \n",
      "I guess he…\n",
      "Sentiment(polarity=0.04722222222222221, subjectivity=0.3944444444444445)\n",
      "\n",
      "RT @prestigepls: Bro who did this? 😂😂😂😂 why am I cringing so hard? Why they be thinking life is a Bollywood movie? https://t.co/nHL1H9hSNc\n",
      "Sentiment(polarity=-0.2916666666666667, subjectivity=0.5416666666666666)\n",
      "\n",
      "RT @prestigepls: Bro who did this? 😂😂😂😂 why am I cringing so hard? Why they be thinking life is a Bollywood movie? https://t.co/nHL1H9hSNc\n",
      "Sentiment(polarity=-0.2916666666666667, subjectivity=0.5416666666666666)\n",
      "\n",
      "RT @IISuperwomanII: I remade some of my favourite Bollywood songs into rap songs! Oh gosh... one more remix?! \n",
      "\n",
      "https://t.co/kxYoTSRuv5\n",
      " \n",
      "#…\n",
      "Sentiment(polarity=0.625, subjectivity=0.5)\n",
      "\n",
      "RT @filmibeat: It's A Blessing When Salman Khan Is Around, Says Notebook Composer Vishal Mishra https://t.co/KwUGHv3uzw #salmankhan #notebo…\n",
      "Sentiment(polarity=0.0, subjectivity=0.0)\n",
      "\n",
      "RT @IISuperwomanII: I remade some of my favourite Bollywood songs into rap songs! Oh gosh... one more remix?! \n",
      "\n",
      "https://t.co/kxYoTSRuv5\n",
      " \n",
      "#…\n",
      "Sentiment(polarity=0.625, subjectivity=0.5)\n",
      "\n"
     ]
    }
   ],
   "source": [
    "#Finding sentiments for the tweets\n",
    "\n",
    "for tweet in tweets:\n",
    "    print(tweet.text)\n",
    "    tweet = TextBlob(tweet.text)\n",
    "    print(tweet.sentiment)\n",
    "    print"
   ]
  }
 ],
 "metadata": {
  "kernelspec": {
   "display_name": "Python 2",
   "language": "python",
   "name": "python2"
  },
  "language_info": {
   "codemirror_mode": {
    "name": "ipython",
    "version": 2
   },
   "file_extension": ".py",
   "mimetype": "text/x-python",
   "name": "python",
   "nbconvert_exporter": "python",
   "pygments_lexer": "ipython2",
   "version": "2.7.15"
  }
 },
 "nbformat": 4,
 "nbformat_minor": 2
}
